{
 "cells": [
  {
   "cell_type": "code",
   "execution_count": 1,
   "metadata": {},
   "outputs": [
    {
     "name": "stdout",
     "output_type": "stream",
     "text": [
      "pili_assymetry_utils loaded successfully\n"
     ]
    }
   ],
   "source": [
    "import os\n",
    "import glob\n",
    "import numpy as np\n",
    "\n",
    "import matplotlib.pyplot as plt\n",
    "import pandas as pd\n",
    "import math\n",
    "import pili_assymetry_utils as assym"
   ]
  },
  {
   "cell_type": "code",
   "execution_count": 10,
   "metadata": {},
   "outputs": [
    {
     "name": "stdout",
     "output_type": "stream",
     "text": [
      "Assymetric fliC-\n",
      "97\n",
      "[19, 24, 16, 13, 11, 6, 3, 2, 2, 0, 0, 0, 0, 0, 1, 0, 0, 0, 0, 0]\n",
      "[ 2  3  4  5  6  7  8  9 10 11 12 13 14 15 16 17 18 19 20 21]\n",
      "[0.42105263157894735, 1.0, 0.8125, 1.0, 0.9090909090909091, 1.0, 0.6666666666666666, 1.0, 1.0, 0, 0, 0, 0, 0, 1.0, 0, 0, 0, 0, 0]\n",
      "Assymetric pilH-cyaB-fliC-\n",
      "70\n",
      "[29, 11, 17, 5, 3, 5, 0, 0, 0, 0, 0, 0, 0, 0, 0, 0, 0, 0, 0, 0]\n",
      "[ 2  3  4  5  6  7  8  9 10 11 12 13 14 15 16 17 18 19 20 21]\n",
      "[0.6206896551724138, 1.0, 0.5882352941176471, 1.0, 0.6666666666666666, 1.0, 0, 0, 0, 0, 0, 0, 0, 0, 0, 0, 0, 0, 0, 0]\n",
      "Assymetric cpdA-fliC-\n",
      "109\n",
      "[4, 8, 11, 18, 16, 10, 8, 6, 4, 7, 3, 4, 3, 3, 2, 2, 0, 0, 0, 0]\n",
      "[ 2  3  4  5  6  7  8  9 10 11 12 13 14 15 16 17 18 19 20 21]\n",
      "[0.5, 1.0, 0.6363636363636364, 1.0, 0.6875, 1.0, 0.75, 1.0, 1.0, 1.0, 1.0, 1.0, 0.3333333333333333, 1.0, 1.0, 1.0, 0, 0, 0, 0]\n",
      "Assymetric pilG-cpdA-fliC-\n",
      "48\n",
      "[24, 11, 7, 3, 0, 1, 0, 2, 0, 0, 0, 0, 0, 0, 0, 0, 0, 0, 0, 0]\n",
      "[ 2  3  4  5  6  7  8  9 10 11 12 13 14 15 16 17 18 19 20 21]\n",
      "[0.08333333333333333, 1.0, 0.0, 1.0, 0, 1.0, 0, 1.0, 0, 0, 0, 0, 0, 0, 0, 0, 0, 0, 0, 0]\n"
     ]
    }
   ],
   "source": [
    "tot_pili_limit=20\n",
    "nb_pili_difference=20\n",
    "cwd = os.getcwd()\n",
    "master_file=os.path.join(cwd, \"Combined_all_data.csv\")\n",
    "os.chdir(cwd)\n",
    "pili_fliC, assym_fliC, n_fliC, probs_fliC, df_probs_fliC =assym.getProbs(master_file, \"fliCsol_piliDistProb.csv\", tot_pili_limit, nb_pili_difference, 'fliC-')\n",
    "print('Assymetric fliC-')\n",
    "print(np.array(n_fliC).sum())\n",
    "print(n_fliC)\n",
    "print(pili_fliC)\n",
    "print(assym_fliC)\n",
    "\n",
    "pili_pilHcyaBfliC, assym_pilHcyaBfliC, n_pilHcyaBfliC, probs_pilHcyaBfliC, df_probs_pilHcyaBfliC =assym.getProbs(master_file, \"pilHcyaBfliCsol_piliDistProb.csv\", tot_pili_limit, nb_pili_difference, 'pilH-cyaB-fliC-')\n",
    "print('Assymetric pilH-cyaB-fliC-')\n",
    "print(np.array(n_pilHcyaBfliC).sum())\n",
    "print(n_pilHcyaBfliC)\n",
    "print(pili_pilHcyaBfliC)\n",
    "print(assym_pilHcyaBfliC)\n",
    "\n",
    "pili_cpdAfliC, assym_cpdAfliC, n_cpdAfliC, probs_cpdAfliC, df_probs_cpdAfliC =assym.getProbs(master_file, \"cpdAfliCsol_piliDistProb.csv\", tot_pili_limit, nb_pili_difference, 'cpdA-fliC-')\n",
    "print('Assymetric cpdA-fliC-')\n",
    "print(np.array(n_cpdAfliC).sum())\n",
    "print(n_cpdAfliC)\n",
    "print(pili_cpdAfliC)\n",
    "print(assym_cpdAfliC)\n",
    "\n",
    "pili_pilGcpdAfliC, assym_pilGcpdAfliC, n_pilGcpdAfliC, probs_pilGcpdAfliC, df_probs_pilGcpdAfliC =assym.getProbs(master_file, \"pilGcpdAfliCsol_piliDistProb.csv\", tot_pili_limit, nb_pili_difference, 'pilG-cpdA-fliC-')\n",
    "print('Assymetric pilG-cpdA-fliC-')\n",
    "print(np.array(n_pilGcpdAfliC).sum())\n",
    "print(n_pilGcpdAfliC)\n",
    "print(pili_pilGcpdAfliC)\n",
    "print(assym_pilGcpdAfliC)"
   ]
  },
  {
   "cell_type": "code",
   "execution_count": 5,
   "metadata": {},
   "outputs": [
    {
     "data": {
      "text/html": [
       "<div>\n",
       "<style scoped>\n",
       "    .dataframe tbody tr th:only-of-type {\n",
       "        vertical-align: middle;\n",
       "    }\n",
       "\n",
       "    .dataframe tbody tr th {\n",
       "        vertical-align: top;\n",
       "    }\n",
       "\n",
       "    .dataframe thead th {\n",
       "        text-align: right;\n",
       "    }\n",
       "</style>\n",
       "<table border=\"1\" class=\"dataframe\">\n",
       "  <thead>\n",
       "    <tr style=\"text-align: right;\">\n",
       "      <th></th>\n",
       "      <th>2</th>\n",
       "      <th>3</th>\n",
       "      <th>4</th>\n",
       "      <th>5</th>\n",
       "      <th>6</th>\n",
       "      <th>7</th>\n",
       "      <th>8</th>\n",
       "      <th>9</th>\n",
       "      <th>10</th>\n",
       "      <th>11</th>\n",
       "      <th>12</th>\n",
       "      <th>13</th>\n",
       "      <th>14</th>\n",
       "      <th>15</th>\n",
       "      <th>16</th>\n",
       "      <th>17</th>\n",
       "      <th>18</th>\n",
       "      <th>19</th>\n",
       "      <th>20</th>\n",
       "      <th>21</th>\n",
       "    </tr>\n",
       "  </thead>\n",
       "  <tbody>\n",
       "    <tr>\n",
       "      <th>0</th>\n",
       "      <td>0.5</td>\n",
       "      <td>0.00</td>\n",
       "      <td>0.375</td>\n",
       "      <td>0.0000</td>\n",
       "      <td>0.31250</td>\n",
       "      <td>0.000000</td>\n",
       "      <td>0.273438</td>\n",
       "      <td>0.000000</td>\n",
       "      <td>0.246094</td>\n",
       "      <td>0.000000</td>\n",
       "      <td>0.225586</td>\n",
       "      <td>0.000000</td>\n",
       "      <td>0.209473</td>\n",
       "      <td>0.000000</td>\n",
       "      <td>0.196381</td>\n",
       "      <td>0.000000</td>\n",
       "      <td>0.185471</td>\n",
       "      <td>0.000000</td>\n",
       "      <td>0.176197</td>\n",
       "      <td>0.000000</td>\n",
       "    </tr>\n",
       "    <tr>\n",
       "      <th>1</th>\n",
       "      <td>0.0</td>\n",
       "      <td>0.75</td>\n",
       "      <td>0.000</td>\n",
       "      <td>0.3125</td>\n",
       "      <td>0.00000</td>\n",
       "      <td>0.109375</td>\n",
       "      <td>0.000000</td>\n",
       "      <td>0.035156</td>\n",
       "      <td>0.000000</td>\n",
       "      <td>0.010742</td>\n",
       "      <td>0.000000</td>\n",
       "      <td>0.003174</td>\n",
       "      <td>0.000000</td>\n",
       "      <td>0.000916</td>\n",
       "      <td>0.000000</td>\n",
       "      <td>0.000259</td>\n",
       "      <td>0.000000</td>\n",
       "      <td>0.000072</td>\n",
       "      <td>0.000000</td>\n",
       "      <td>0.000020</td>\n",
       "    </tr>\n",
       "    <tr>\n",
       "      <th>2</th>\n",
       "      <td>0.5</td>\n",
       "      <td>0.00</td>\n",
       "      <td>0.500</td>\n",
       "      <td>0.0000</td>\n",
       "      <td>0.46875</td>\n",
       "      <td>0.000000</td>\n",
       "      <td>0.437500</td>\n",
       "      <td>0.000000</td>\n",
       "      <td>0.410156</td>\n",
       "      <td>0.000000</td>\n",
       "      <td>0.386719</td>\n",
       "      <td>0.000000</td>\n",
       "      <td>0.366577</td>\n",
       "      <td>0.000000</td>\n",
       "      <td>0.349121</td>\n",
       "      <td>0.000000</td>\n",
       "      <td>0.333847</td>\n",
       "      <td>0.000000</td>\n",
       "      <td>0.320359</td>\n",
       "      <td>0.000000</td>\n",
       "    </tr>\n",
       "    <tr>\n",
       "      <th>3</th>\n",
       "      <td>0.0</td>\n",
       "      <td>0.25</td>\n",
       "      <td>0.000</td>\n",
       "      <td>0.6250</td>\n",
       "      <td>0.00000</td>\n",
       "      <td>0.546875</td>\n",
       "      <td>0.000000</td>\n",
       "      <td>0.328125</td>\n",
       "      <td>0.000000</td>\n",
       "      <td>0.161133</td>\n",
       "      <td>0.000000</td>\n",
       "      <td>0.069824</td>\n",
       "      <td>0.000000</td>\n",
       "      <td>0.027771</td>\n",
       "      <td>0.000000</td>\n",
       "      <td>0.010376</td>\n",
       "      <td>0.000000</td>\n",
       "      <td>0.003696</td>\n",
       "      <td>0.000000</td>\n",
       "      <td>0.001268</td>\n",
       "    </tr>\n",
       "    <tr>\n",
       "      <th>4</th>\n",
       "      <td>0.0</td>\n",
       "      <td>0.00</td>\n",
       "      <td>0.125</td>\n",
       "      <td>0.0000</td>\n",
       "      <td>0.18750</td>\n",
       "      <td>0.000000</td>\n",
       "      <td>0.218750</td>\n",
       "      <td>0.000000</td>\n",
       "      <td>0.234375</td>\n",
       "      <td>0.000000</td>\n",
       "      <td>0.241699</td>\n",
       "      <td>0.000000</td>\n",
       "      <td>0.244385</td>\n",
       "      <td>0.000000</td>\n",
       "      <td>0.244385</td>\n",
       "      <td>0.000000</td>\n",
       "      <td>0.242798</td>\n",
       "      <td>0.000000</td>\n",
       "      <td>0.240269</td>\n",
       "      <td>0.000000</td>\n",
       "    </tr>\n",
       "  </tbody>\n",
       "</table>\n",
       "</div>"
      ],
      "text/plain": [
       "    2     3      4       5        6         7         8         9         10  \\\n",
       "0  0.5  0.00  0.375  0.0000  0.31250  0.000000  0.273438  0.000000  0.246094   \n",
       "1  0.0  0.75  0.000  0.3125  0.00000  0.109375  0.000000  0.035156  0.000000   \n",
       "2  0.5  0.00  0.500  0.0000  0.46875  0.000000  0.437500  0.000000  0.410156   \n",
       "3  0.0  0.25  0.000  0.6250  0.00000  0.546875  0.000000  0.328125  0.000000   \n",
       "4  0.0  0.00  0.125  0.0000  0.18750  0.000000  0.218750  0.000000  0.234375   \n",
       "\n",
       "         11        12        13        14        15        16        17  \\\n",
       "0  0.000000  0.225586  0.000000  0.209473  0.000000  0.196381  0.000000   \n",
       "1  0.010742  0.000000  0.003174  0.000000  0.000916  0.000000  0.000259   \n",
       "2  0.000000  0.386719  0.000000  0.366577  0.000000  0.349121  0.000000   \n",
       "3  0.161133  0.000000  0.069824  0.000000  0.027771  0.000000  0.010376   \n",
       "4  0.000000  0.241699  0.000000  0.244385  0.000000  0.244385  0.000000   \n",
       "\n",
       "         18        19        20        21  \n",
       "0  0.185471  0.000000  0.176197  0.000000  \n",
       "1  0.000000  0.000072  0.000000  0.000020  \n",
       "2  0.333847  0.000000  0.320359  0.000000  \n",
       "3  0.000000  0.003696  0.000000  0.001268  \n",
       "4  0.242798  0.000000  0.240269  0.000000  "
      ]
     },
     "execution_count": 5,
     "metadata": {},
     "output_type": "execute_result"
    }
   ],
   "source": [
    "n_pili=np.linspace(2,tot_pili_limit+1, 20, dtype=np.int16)\n",
    "n_pil=np.linspace(0,tot_pili_limit+1,22, dtype=np.int16)\n",
    "diff_even=n_pil[0::2]\n",
    "diff_odd=n_pil[1::2]\n",
    "probs=np.zeros([nb_pili_difference,tot_pili_limit])\n",
    "for val, i in enumerate(n_pil[2:]):\n",
    "    if (i % 2 == 0):\n",
    "        diff=diff_even[diff_even<=i]\n",
    "    else:\n",
    "        diff=diff_odd[diff_odd<=i]\n",
    "    for j, d in enumerate(diff):\n",
    "        if (i % 2 == 0):\n",
    "            k=i/2+j\n",
    "            index=j*2\n",
    "            if ((index<tot_pili_limit)):\n",
    "                if(j==0):\n",
    "                    probs[index, val]=math.factorial(i)/math.factorial(i-k)/math.factorial(k)/2\n",
    "                else:\n",
    "                    probs[index, val]=math.factorial(i)/math.factorial(i-k)/math.factorial(k)\n",
    "        else:\n",
    "            k=i-(j*2+1)\n",
    "            #print('i='+str(i)+ ' k='+str(k))\n",
    "            index=1+j*2\n",
    "            if ((index<tot_pili_limit) & (k<=i)):\n",
    "                probs[index, val]=math.factorial(i)/math.factorial(i-k)/math.factorial(k)\n",
    "for i in range(tot_pili_limit):\n",
    "    probs[:,i]=probs[:,i]/np.sum(probs[:,i])\n",
    "pili=np.arange(2,tot_pili_limit+2)\n",
    "df_stat=pd.DataFrame(probs, columns = list(pili))\n",
    "df_stat.to_csv( os.path.join(cwd, \"Ref_Stat_data.csv\"), index=False, encoding='utf-8-sig')\n",
    "df_stat.head()"
   ]
  },
  {
   "cell_type": "code",
   "execution_count": 6,
   "metadata": {},
   "outputs": [
    {
     "name": "stdout",
     "output_type": "stream",
     "text": [
      "[None, None, None, None]\n",
      "Reference\n",
      "[15.0, 7.5, 18.75]\n",
      "0.4583333333333333\n",
      "strain:WT\n",
      "[8.0, 7.0, 13.0]\n",
      "strain:ΔcpdA\n",
      "[2.0, 3.0, 7.0]\n",
      "strain:ΔpilGΔcpdA\n",
      "[2.0, 1.0, 0.0]\n",
      "strain:ΔpilHΔcyaB\n",
      "[18.0, 8.0, 10.0]\n",
      "[0.63157895 0.07142857 0.52173913 0.47457627]\n",
      "[4 3 2 1]\n"
     ]
    },
    {
     "name": "stderr",
     "output_type": "stream",
     "text": [
      "<ipython-input-6-21773926a0ba>:35: UserWarning: FixedFormatter should only be used together with FixedLocator\n",
      "  ax1.set_yticklabels(x_)\n"
     ]
    },
    {
     "data": {
      "image/png": "[encoded data removed]",
      "text/plain": [
       "<Figure size 360x288 with 1 Axes>"
      ]
     },
     "metadata": {
      "needs_background": "light"
     },
     "output_type": "display_data"
    }
   ],
   "source": [
    "input_cell_nb_array=list([[30, 30, 30], n_fliC, n_cpdAfliC, n_pilGcpdAfliC, n_pilHcyaBfliC]) \n",
    "input_probability_DataFrame=list([df_stat, df_probs_fliC, df_probs_cpdAfliC, df_probs_pilGcpdAfliC, df_probs_pilHcyaBfliC])\n",
    "tot_assymetric=[None]*(len(input_cell_nb_array)-1)\n",
    "print(tot_assymetric)\n",
    "Strains=['WT', 'ΔcpdA', 'ΔpilGΔcpdA', 'ΔpilHΔcyaB']\n",
    "print('Reference')\n",
    "input_probability_matrix=np.array(input_probability_DataFrame[0])\n",
    "tot_cells=np.sum(input_cell_nb_array[0][0:3])\n",
    "cell=[None]*3\n",
    "for i in range(3):\n",
    "    cell[i]=np.sum(input_probability_matrix[2:5,i]*input_cell_nb_array[0][i])\n",
    "print(cell)\n",
    "Ref_tot_assymetric=np.sum(cell)/tot_cells\n",
    "print(Ref_tot_assymetric)\n",
    "for strain in range(len(tot_assymetric)):\n",
    "    print('strain:'+Strains[strain])\n",
    "    input_probability_matrix=np.array(input_probability_DataFrame[strain+1])\n",
    "    tot_cells=np.sum(input_cell_nb_array[strain+1][0:3])\n",
    "    cell=[None]*3\n",
    "    for i in range(3):\n",
    "        cell[i]=np.sum(input_probability_matrix[2:5,i]*input_cell_nb_array[strain+1][i])\n",
    "    print(cell)\n",
    "    tot_assymetric[strain]=np.sum(cell)/tot_cells\n",
    "print(np.flip(tot_assymetric))\n",
    "fig1, ax1=plt.subplots(1,1)\n",
    "fig1.set_size_inches(5, 4)\n",
    "ax1.set_xlim(0,1)\n",
    "ax1.set_xlabel('Fraction of assymetric cells (%)')\n",
    "ax1.set_ylim(0,len(tot_assymetric)+1)\n",
    "x=np.arange(1,len(tot_assymetric)+1)\n",
    "print(np.flip(x))\n",
    "x_=['','ΔpilHΔcyaB', 'ΔpilGΔcpdA','ΔcpdA' , 'WT']\n",
    "plt.plot(tot_assymetric,np.flip(x), 'ok')\n",
    "plt.plot(np.ones(6)*Ref_tot_assymetric,[0,1,2,3,4,5], 'r')\n",
    "ax1.set_yticklabels(x_)\n",
    "plt.title(\"Probability of assymetric pili distribution\")\n",
    "save_name='assymetric_probability_barplot.svg'\n",
    "fig1.savefig(save_name, dpi=300)"
   ]
  },
  {
   "cell_type": "code",
   "execution_count": 7,
   "metadata": {},
   "outputs": [
    {
     "data": {
      "image/png": "[encoded data removed]",
      "text/plain": [
       "<Figure size 360x288 with 1 Axes>"
      ]
     },
     "metadata": {
      "needs_background": "light"
     },
     "output_type": "display_data"
    }
   ],
   "source": [
    "TwoIndex= (0,2)\n",
    "ThreeIndex= (1,3)\n",
    "FourIndex= (0,2,4)\n",
    "Strains=['WT', 'ΔcpdA', 'ΔpilGΔcpdA', 'ΔpilHΔcyaB', 'Reference']\n",
    "\n",
    "#2 pili\n",
    "col=0\n",
    "sym=0\n",
    "ind=TwoIndex\n",
    "Sym=[np.flip(probs_fliC[ind,col])[sym], np.flip(probs_cpdAfliC[ind,col])[sym], np.flip(probs_pilGcpdAfliC[ind,col])[sym], np.flip(probs_pilHcyaBfliC[ind,col])[sym], np.flip(probs[ind,col])[sym]]\n",
    "sym=1\n",
    "Asym=[np.flip(probs_fliC[ind,col])[sym], np.flip(probs_cpdAfliC[ind,col])[sym], np.flip(probs_pilGcpdAfliC[ind,col])[sym], np.flip(probs_pilHcyaBfliC[ind,col])[sym], np.flip(probs[ind,col])[sym]]\n",
    "fig2, ax2=plt.subplots(1,1)\n",
    "fig2.set_size_inches(5, 4)\n",
    "# plot bars in stack manner\n",
    "plt.barh(np.flip(Strains), np.flip(Sym), color='r')\n",
    "plt.barh(np.flip(Strains), np.flip(Asym), left=np.flip(Sym), color='navy')\n",
    "plt.show()"
   ]
  },
  {
   "cell_type": "code",
   "execution_count": 8,
   "metadata": {},
   "outputs": [
    {
     "data": {
      "image/png": "[encoded data removed]",
      "text/plain": [
       "<Figure size 360x288 with 1 Axes>"
      ]
     },
     "metadata": {
      "needs_background": "light"
     },
     "output_type": "display_data"
    }
   ],
   "source": [
    "#3 pili\n",
    "col=1\n",
    "sym=0\n",
    "ind=ThreeIndex\n",
    "Sym=[np.flip(probs_fliC[ind,col])[sym], np.flip(probs_cpdAfliC[ind,col])[sym], np.flip(probs_pilGcpdAfliC[ind,col])[sym], np.flip(probs_pilHcyaBfliC[ind,col])[sym], np.flip(probs[ind,col])[sym]]\n",
    "sym=1\n",
    "Asym=[np.flip(probs_fliC[ind,col])[sym], np.flip(probs_cpdAfliC[ind,col])[sym], np.flip(probs_pilGcpdAfliC[ind,col])[sym], np.flip(probs_pilHcyaBfliC[ind,col])[sym], np.flip(probs[ind,col])[sym]]\n",
    "fig3, ax3=plt.subplots(1,1)\n",
    "fig3.set_size_inches(5, 4)\n",
    "# plot bars in stack manner\n",
    "plt.barh(np.flip(Strains), np.flip(Sym), color='r')\n",
    "plt.barh(np.flip(Strains), np.flip(Asym), left=np.flip(Sym), color='navy')\n",
    "plt.show()"
   ]
  },
  {
   "cell_type": "code",
   "execution_count": 9,
   "metadata": {},
   "outputs": [
    {
     "data": {
      "image/png": "[encoded data removed]",
      "text/plain": [
       "<Figure size 360x288 with 1 Axes>"
      ]
     },
     "metadata": {
      "needs_background": "light"
     },
     "output_type": "display_data"
    }
   ],
   "source": [
    "#3 pili\n",
    "col=2\n",
    "sym=0\n",
    "ind=FourIndex\n",
    "Sym=[np.flip(probs_fliC[ind,col])[sym], np.flip(probs_cpdAfliC[ind,col])[sym], np.flip(probs_pilGcpdAfliC[ind,col])[sym], np.flip(probs_pilHcyaBfliC[ind,col])[sym], np.flip(probs[ind,col])[sym]]\n",
    "sym=1\n",
    "Asym1=[np.flip(probs_fliC[ind,col])[sym], np.flip(probs_cpdAfliC[ind,col])[sym], np.flip(probs_pilGcpdAfliC[ind,col])[sym], np.flip(probs_pilHcyaBfliC[ind,col])[sym], np.flip(probs[ind,col])[sym]]\n",
    "sym=2\n",
    "Asym2=[np.flip(probs_fliC[ind,col])[sym], np.flip(probs_cpdAfliC[ind,col])[sym], np.flip(probs_pilGcpdAfliC[ind,col])[sym], np.flip(probs_pilHcyaBfliC[ind,col])[sym], np.flip(probs[ind,col])[sym]]\n",
    "fig4, ax4=plt.subplots(1,1)\n",
    "fig4.set_size_inches(5, 4)\n",
    "# plot bars in stack manner\n",
    "plt.barh(np.flip(Strains), np.flip(Sym), color='pink')\n",
    "plt.barh(np.flip(Strains), np.flip(Asym1), left=np.flip(Sym), color='r')\n",
    "plt.barh(np.flip(Strains), np.flip(Asym2), left=np.flip(Sym)+np.flip(Asym1), color='navy')\n",
    "plt.show()"
   ]
  },
  {
   "cell_type": "code",
   "execution_count": null,
   "metadata": {},
   "outputs": [],
   "source": []
  },
  {
   "cell_type": "code",
   "execution_count": null,
   "metadata": {},
   "outputs": [],
   "source": []
  }
 ],
 "metadata": {
  "kernelspec": {
   "display_name": "Python 3",
   "language": "python",
   "name": "python3"
  },
  "language_info": {
   "codemirror_mode": {
    "name": "ipython",
    "version": 3
   },
   "file_extension": ".py",
   "mimetype": "text/x-python",
   "name": "python",
   "nbconvert_exporter": "python",
   "pygments_lexer": "ipython3",
   "version": "3.8.5"
  }
 },
 "nbformat": 4,
 "nbformat_minor": 4
}
